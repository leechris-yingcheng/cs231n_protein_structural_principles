{
 "cells": [
  {
   "cell_type": "code",
   "execution_count": 1,
   "metadata": {},
   "outputs": [],
   "source": [
    "%matplotlib inline\n"
   ]
  },
  {
   "cell_type": "markdown",
   "metadata": {},
   "source": [
    "\n",
    "Training an PDBSS Classifier\n",
    "=====\n",
    "## Custom Dataset, Model Checkpointing, and Fine-tune"
   ]
  },
  {
   "cell_type": "code",
   "execution_count": 2,
   "metadata": {},
   "outputs": [],
   "source": [
    "import torch\n",
    "import torch.nn as nn\n",
    "import torch.optim as optim\n",
    "import torch.nn.functional as F\n",
    "import torchvision\n",
    "import torchvision.transforms as transforms\n",
    "from torch.utils.data import Dataset, DataLoader\n",
    "import glob\n",
    "import os.path as osp\n",
    "import numpy as np\n",
    "from PIL import Image"
   ]
  },
  {
   "cell_type": "markdown",
   "metadata": {},
   "source": [
    "## 1. Custom Dataset\n",
    "PyTorch has many built-in datasets such as MNIST and CIFAR. In this tutorial, we demonstrate how to write your own dataset by implementing a custom MNIST dataset class. Use [this link](https://github.com/myleott/mnist_png/blob/master/mnist_png.tar.gz?raw=true) to download the mnist png dataset."
   ]
  },
  {
   "cell_type": "code",
   "execution_count": 3,
   "metadata": {},
   "outputs": [],
   "source": [
    "class PDBSS_SURFACE(Dataset):\n",
    "    \"\"\"\n",
    "    A customized data loader for PDBSS (PDB Snapshots Database).\n",
    "    \"\"\"\n",
    "    def __init__(self,\n",
    "                 root,\n",
    "                 transform=None,\n",
    "                 preload=False):\n",
    "        \"\"\" Intialize the PDBSS dataset\n",
    "        \n",
    "        Args:\n",
    "            - root: root directory of the dataset\n",
    "            - tranform: a custom tranform function\n",
    "            - preload: if preload the dataset into memory\n",
    "        \"\"\"\n",
    "        self.images = None\n",
    "        self.labels = None\n",
    "        self.filenames = []\n",
    "        self.root = root\n",
    "        self.transform = transform\n",
    "\n",
    "        # read filenames\n",
    "        for i in range(740): #740 categories\n",
    "            filenames = glob.glob(osp.join(root, str(i), '*.png'))\n",
    "            for fn in filenames:\n",
    "                self.filenames.append((fn, i)) # (filename, label) pair\n",
    "                \n",
    "        # if preload dataset into memory\n",
    "        if preload:\n",
    "            self._preload()\n",
    "            \n",
    "        self.len = len(self.filenames)\n",
    "                              \n",
    "    def _preload(self):\n",
    "        \"\"\"\n",
    "        Preload dataset to memory\n",
    "        \"\"\"\n",
    "        self.labels = []\n",
    "        self.images = []\n",
    "        for image_fn, label in self.filenames:            \n",
    "            # load images\n",
    "            image = Image.open(image_fn)\n",
    "            # avoid too many opened files bug\n",
    "            self.images.append(image.copy())\n",
    "            image.close()\n",
    "            self.labels.append(label)\n",
    "\n",
    "    def __getitem__(self, index):\n",
    "        \"\"\" Get a sample from the dataset\n",
    "        \"\"\"\n",
    "        if self.images is not None:\n",
    "            # If dataset is preloaded\n",
    "            image = self.images[index]\n",
    "            label = self.labels[index]\n",
    "        else:\n",
    "            # If on-demand data loading\n",
    "            image_fn, label = self.filenames[index]\n",
    "            image = Image.open(image_fn)\n",
    "            \n",
    "        # May use transform function to transform samples\n",
    "        # e.g., random crop, whitening\n",
    "        if self.transform is not None:\n",
    "            image = self.transform(image)\n",
    "            #image = transform.resize(image, (300,300))\n",
    "            #image = self.transform(image)\n",
    "        # return image and label\n",
    "        return image, label\n",
    "\n",
    "    def __len__(self):\n",
    "        \"\"\"\n",
    "        Total number of samples in the dataset\n",
    "        \"\"\"\n",
    "        return self.len\n",
    "    "
   ]
  },
  {
   "cell_type": "code",
   "execution_count": 4,
   "metadata": {},
   "outputs": [],
   "source": [
    "# Create the PDBSS dataset. \n",
    "# transforms.ToTensor() automatically converts PIL images to\n",
    "# torch tensors with range [0, 1]\n",
    "\n",
    "data_transform = transforms.Compose([\n",
    "        transforms.Resize(size=(300,300)),\n",
    "        transforms.ToTensor(),\n",
    "        transforms.Normalize(mean=[0.0, 0.0, 0.0],\n",
    "                             std=[0.25, 0.25, 0.25])\n",
    "    ])\n",
    "\n",
    "trainset = PDBSS_SURFACE(\n",
    "    root='/Users/user/cs231n_Database_dir/CS231N_PDB_SNAPSHOTS_DATABASE_5000_SURFACE/train',\n",
    "    preload=False, transform=data_transform,\n",
    ")\n",
    "# Use the torch dataloader to iterate through the dataset\n",
    "trainset_loader = DataLoader(trainset, batch_size=64*4, shuffle=True, num_workers=2)  #batch_size = original 64. ideally > 740.\n",
    "\n",
    "# load the testset\n",
    "testset = PDBSS_SURFACE(\n",
    "    root='/Users/user/cs231n_Database_dir/CS231N_PDB_SNAPSHOTS_DATABASE_5000_SURFACE/test',\n",
    "    preload=False, transform=data_transform,\n",
    ")\n",
    "# Use the torch dataloader to iterate through the dataset\n",
    "testset_loader = DataLoader(testset, batch_size=100, shuffle=False, num_workers=2) #batch_size = original 100"
   ]
  },
  {
   "cell_type": "code",
   "execution_count": 5,
   "metadata": {},
   "outputs": [
    {
     "name": "stdout",
     "output_type": "stream",
     "text": [
      "305600\n",
      "20736\n"
     ]
    }
   ],
   "source": [
    "print(len(trainset))\n",
    "print(len(testset))"
   ]
  },
  {
   "cell_type": "code",
   "execution_count": 6,
   "metadata": {},
   "outputs": [
    {
     "data": {
      "text/plain": [
       "torch.Size([3, 300, 300])"
      ]
     },
     "execution_count": 6,
     "metadata": {},
     "output_type": "execute_result"
    }
   ],
   "source": [
    "trainset[0][0].size()"
   ]
  },
  {
   "cell_type": "markdown",
   "metadata": {},
   "source": [
    "### Visualize the dataset"
   ]
  },
  {
   "cell_type": "code",
   "execution_count": 7,
   "metadata": {},
   "outputs": [
    {
     "name": "stdout",
     "output_type": "stream",
     "text": [
      "tensor(134) tensor(154) tensor(51) tensor(504) tensor(373) tensor(637) tensor(504) tensor(324) tensor(273) tensor(635) tensor(572) tensor(359) tensor(452) tensor(83) tensor(549) tensor(663)\n"
     ]
    },
    {
     "data": {
      "image/png": "[encoded data removed]",
      "text/plain": [
       "<matplotlib.figure.Figure at 0x11f93f080>"
      ]
     },
     "metadata": {},
     "output_type": "display_data"
    },
    {
     "name": "stderr",
     "output_type": "stream",
     "text": [
      "Process Process-2:\n",
      "Process Process-1:\n",
      "Traceback (most recent call last):\n",
      "Traceback (most recent call last):\n",
      "  File \"/Users/user/anaconda3/envs/cs231n/lib/python3.6/multiprocessing/process.py\", line 258, in _bootstrap\n",
      "    self.run()\n",
      "  File \"/Users/user/anaconda3/envs/cs231n/lib/python3.6/multiprocessing/process.py\", line 258, in _bootstrap\n",
      "    self.run()\n",
      "  File \"/Users/user/anaconda3/envs/cs231n/lib/python3.6/multiprocessing/process.py\", line 93, in run\n",
      "    self._target(*self._args, **self._kwargs)\n",
      "  File \"/Users/user/anaconda3/envs/cs231n/lib/python3.6/multiprocessing/process.py\", line 93, in run\n",
      "    self._target(*self._args, **self._kwargs)\n",
      "  File \"/Users/user/anaconda3/envs/cs231n/lib/python3.6/site-packages/torch/utils/data/dataloader.py\", line 52, in _worker_loop\n",
      "    r = index_queue.get()\n",
      "  File \"/Users/user/anaconda3/envs/cs231n/lib/python3.6/multiprocessing/queues.py\", line 335, in get\n",
      "    res = self._reader.recv_bytes()\n",
      "  File \"/Users/user/anaconda3/envs/cs231n/lib/python3.6/site-packages/torch/utils/data/dataloader.py\", line 52, in _worker_loop\n",
      "    r = index_queue.get()\n",
      "  File \"/Users/user/anaconda3/envs/cs231n/lib/python3.6/multiprocessing/connection.py\", line 216, in recv_bytes\n",
      "    buf = self._recv_bytes(maxlength)\n",
      "  File \"/Users/user/anaconda3/envs/cs231n/lib/python3.6/multiprocessing/queues.py\", line 335, in get\n",
      "    res = self._reader.recv_bytes()\n",
      "  File \"/Users/user/anaconda3/envs/cs231n/lib/python3.6/multiprocessing/connection.py\", line 216, in recv_bytes\n",
      "    buf = self._recv_bytes(maxlength)\n",
      "  File \"/Users/user/anaconda3/envs/cs231n/lib/python3.6/multiprocessing/connection.py\", line 407, in _recv_bytes\n",
      "    buf = self._recv(4)\n",
      "  File \"/Users/user/anaconda3/envs/cs231n/lib/python3.6/multiprocessing/connection.py\", line 379, in _recv\n",
      "    chunk = read(handle, remaining)\n",
      "  File \"/Users/user/anaconda3/envs/cs231n/lib/python3.6/multiprocessing/connection.py\", line 407, in _recv_bytes\n",
      "    buf = self._recv(4)\n",
      "KeyboardInterrupt\n",
      "  File \"/Users/user/anaconda3/envs/cs231n/lib/python3.6/multiprocessing/connection.py\", line 379, in _recv\n",
      "    chunk = read(handle, remaining)\n",
      "KeyboardInterrupt\n"
     ]
    }
   ],
   "source": [
    "import matplotlib.pyplot as plt\n",
    "import numpy as np\n",
    "\n",
    "# functions to show an image\n",
    "def imshow(img):\n",
    "    npimg = img.numpy()\n",
    "    plt.imshow(np.transpose(npimg, (1, 2, 0)))\n",
    "\n",
    "# get some random training images\n",
    "dataiter = iter(trainset_loader)\n",
    "images, labels = dataiter.next()\n",
    "\n",
    "# show images\n",
    "imshow(torchvision.utils.make_grid(images))\n",
    "# print labels\n",
    "print(' '.join('%5s' % labels[j] for j in range(16)))"
   ]
  },
  {
   "cell_type": "code",
   "execution_count": 8,
   "metadata": {},
   "outputs": [
    {
     "data": {
      "image/png": "[encoded data removed]",
      "text/plain": [
       "<matplotlib.figure.Figure at 0x11a5340b8>"
      ]
     },
     "metadata": {},
     "output_type": "display_data"
    }
   ],
   "source": [
    "imshow(images[7])"
   ]
  },
  {
   "cell_type": "code",
   "execution_count": 9,
   "metadata": {},
   "outputs": [
    {
     "name": "stdout",
     "output_type": "stream",
     "text": [
      "cpu\n"
     ]
    }
   ],
   "source": [
    "# Use GPU if available, otherwise stick with cpu\n",
    "use_cuda = torch.cuda.is_available()\n",
    "torch.manual_seed(123)\n",
    "device = torch.device(cuda if use_cuda else \"cpu\")\n",
    "print(device)"
   ]
  },
  {
   "cell_type": "markdown",
   "metadata": {},
   "source": [
    "### Define a Conv Net\n"
   ]
  },
  {
   "cell_type": "code",
   "execution_count": 10,
   "metadata": {},
   "outputs": [],
   "source": [
    "class Net(nn.Module):\n",
    "    def __init__(self):\n",
    "        super(Net, self).__init__()\n",
    "        self.conv1 = nn.Conv2d(3, 10, kernel_size=3, stride=1,padding=1) #(300+1x2-3)/1+1=300  300x300x10 pool 150x150x10\n",
    "        self.conv2 = nn.Conv2d(10, 20, kernel_size=3, stride=1,padding=1) #(150+1x2-3)/1+1=150  150x150x10 pool 75x75x20\n",
    "        self.conv2_drop = nn.Dropout2d()\n",
    "        self.fc1 = nn.Linear(75*75*20, 740*3)  #75x75x20 \n",
    "        self.fc2 = nn.Linear(740*3, 740) #740 total categories\n",
    "\n",
    "    def forward(self, x):\n",
    "        x = F.relu(F.max_pool2d(self.conv1(x), 2))\n",
    "        x = F.relu(F.max_pool2d(self.conv2_drop(self.conv2(x)), 2))\n",
    "        x = x.view(-1, 75*75*20) # reshape 75x75x20\n",
    "        x = F.relu(self.fc1(x))\n",
    "        x = F.dropout(x, training=self.training)\n",
    "        x = self.fc2(x)\n",
    "        return F.log_softmax(x, dim=1)\n",
    "\n",
    "model = Net().to(device)\n",
    "#optimizer = optim.SGD(model.parameters(), lr=0.001, momentum=0.9)\n",
    "optimizer = optim.Adam(model.parameters(), lr=0.001)"
   ]
  },
  {
   "cell_type": "markdown",
   "metadata": {},
   "source": [
    "### Train the network"
   ]
  },
  {
   "cell_type": "code",
   "execution_count": 11,
   "metadata": {},
   "outputs": [],
   "source": [
    "def train_old(epoch, log_interval=100):\n",
    "    model.train()  # set training mode\n",
    "    iteration = 0\n",
    "    for ep in range(epoch):\n",
    "        for batch_idx, (data, target) in enumerate(trainset_loader):\n",
    "            data, target = data.to(device), target.to(device)\n",
    "            optimizer.zero_grad()\n",
    "            output = model(data)\n",
    "            loss = F.nll_loss(output, target)\n",
    "            loss.backward()\n",
    "            optimizer.step()\n",
    "            if iteration % log_interval == 0:\n",
    "                print('Train Epoch: {} [{}/{} ({:.0f}%)]\\tLoss: {:.6f}'.format(\n",
    "                    ep, batch_idx * len(data), len(trainset_loader.dataset),\n",
    "                    100. * batch_idx / len(trainset_loader), loss.item()))\n",
    "            iteration += 1\n",
    "        test()\n",
    "\n",
    "def train(epoch, log_interval=100):\n",
    "    model.train()  # set training mode\n",
    "    iteration = 0\n",
    "    for ep in range(epoch):\n",
    "        \n",
    "        correct = 0\n",
    "        \n",
    "        for batch_idx, (data, target) in enumerate(trainset_loader):\n",
    "            \n",
    "            data, target = data.to(device), target.to(device)\n",
    "            optimizer.zero_grad()\n",
    "            output = model(data)\n",
    "            loss = F.nll_loss(output, target)\n",
    "            loss.backward()\n",
    "            optimizer.step()\n",
    "            \n",
    "            pred = output.max(1, keepdim=True)[1] # get the index of the max log-probability\n",
    "            correct += pred.eq(target.view_as(pred)).sum().item()\n",
    "            \n",
    "            if iteration % log_interval == 0:\n",
    "                print('Train Epoch: {} [{}/{} ({:.0f}%)]\\tLoss: {:.6f} \\tAccuracy: {}/{} ({:.0f}%)'.format(\n",
    "                    ep, batch_idx * len(data), len(trainset_loader.dataset),\n",
    "                    100. * batch_idx / len(trainset_loader), loss.item(),\n",
    "                    correct, len(data),\n",
    "                    100. * correct / len(data) ))\n",
    "                \n",
    "            iteration += 1\n",
    "            correct = 0\n",
    "        test()"
   ]
  },
  {
   "cell_type": "code",
   "execution_count": 13,
   "metadata": {},
   "outputs": [],
   "source": [
    "def test():\n",
    "    model.eval()  # set evaluation mode\n",
    "    test_loss = 0\n",
    "    correct = 0\n",
    "    with torch.no_grad():\n",
    "        for data, target in testset_loader:\n",
    "            data, target = data.to(device), target.to(device)\n",
    "            output = model(data)\n",
    "            test_loss += F.nll_loss(output, target, size_average=False).item() # sum up batch loss\n",
    "            pred = output.max(1, keepdim=True)[1] # get the index of the max log-probability\n",
    "            correct += pred.eq(target.view_as(pred)).sum().item()\n",
    "\n",
    "    test_loss /= len(testset_loader.dataset)\n",
    "    print('\\nTest set: Average loss: {:.4f}, Accuracy: {}/{} ({:.0f}%)\\n'.format(\n",
    "        test_loss, correct, len(testset_loader.dataset),\n",
    "        100. * correct / len(testset_loader.dataset)))\n",
    "    \n",
    "    "
   ]
  },
  {
   "cell_type": "code",
   "execution_count": 14,
   "metadata": {},
   "outputs": [],
   "source": [
    "#train(1)  # train 5 epochs should get you to about 97% accuracy  #note: this does not save model \n"
   ]
  },
  {
   "cell_type": "markdown",
   "metadata": {},
   "source": [
    "## 2. Save the model (model checkpointing)\n",
    "\n",
    "Now we have a model! Obviously we do not want to retrain the model everytime we want to use it. Plus if you are training a super big model, you probably want to save checkpoint periodically so that you can always fall back to the last checkpoint in case something bad happened or you simply want to test models at different training iterations.\n",
    "\n",
    "Model checkpointing is fairly simple in PyTorch. First, we define a helper function that can save a model to the disk"
   ]
  },
  {
   "cell_type": "code",
   "execution_count": 15,
   "metadata": {},
   "outputs": [],
   "source": [
    "def save_checkpoint(checkpoint_path, model, optimizer):\n",
    "    state = {'state_dict': model.state_dict(),\n",
    "             'optimizer' : optimizer.state_dict()}\n",
    "    torch.save(state,checkpoint_path)\n",
    "    print('model saved to %s' % checkpoint_path)\n",
    "    \n",
    "def load_checkpoint(checkpoint_path, model, optimizer):\n",
    "    state = torch.load(checkpoint_path)\n",
    "    model.load_state_dict(state['state_dict'])\n",
    "    optimizer.load_state_dict(state['optimizer'])\n",
    "    print('model loaded from %s' % checkpoint_path)\n",
    "    "
   ]
  },
  {
   "cell_type": "code",
   "execution_count": 16,
   "metadata": {},
   "outputs": [],
   "source": [
    "# create a brand new model\n",
    "#model = Net().to(device)\n",
    "#optimizer = optim.SGD(model.parameters(), lr=0.001, momentum=0.9)\n",
    "#test()\n",
    "\n"
   ]
  },
  {
   "cell_type": "markdown",
   "metadata": {},
   "source": [
    "### Define a training loop with model checkpointing"
   ]
  },
  {
   "cell_type": "code",
   "execution_count": 17,
   "metadata": {},
   "outputs": [],
   "source": [
    "def train_save_old(epoch, save_interval, log_interval=100):\n",
    "    model.train()  # set training mode\n",
    "    iteration = 0\n",
    "    \n",
    "    # save the first model\n",
    "    save_checkpoint('pdbss-SURFACE-%i.pth' % iteration, model, optimizer)    \n",
    "    \n",
    "    for ep in range(epoch):\n",
    "        for batch_idx, (data, target) in enumerate(trainset_loader):\n",
    "            data, target = data.to(device), target.to(device)\n",
    "            optimizer.zero_grad()\n",
    "            output = model(data)\n",
    "            loss = F.nll_loss(output, target)\n",
    "            loss.backward()\n",
    "            optimizer.step()\n",
    "            if iteration % log_interval == 0:\n",
    "                print('Train Epoch: {} [{}/{} ({:.0f}%)]\\tLoss: {:.6f}'.format(\n",
    "                    ep, batch_idx * len(data), len(trainset_loader.dataset),\n",
    "                    100. * batch_idx / len(trainset_loader), loss.item()))\n",
    "            if iteration % save_interval == 0 and iteration > 0:\n",
    "                save_checkpoint('pdbss-SURFACE-%i.pth' % iteration, model, optimizer)\n",
    "            iteration += 1\n",
    "        test()\n",
    "    \n",
    "    # save the final model\n",
    "    save_checkpoint('pdbss-SURFACE-%i.pth' % iteration, model, optimizer)\n",
    "\n",
    "def train_save(epoch, save_interval, log_interval=100):\n",
    "    model.train()  # set training mode\n",
    "    iteration = 0\n",
    "\n",
    "    # save the first model\n",
    "    save_checkpoint('pdbss-SURFACE-%i.pth' % iteration, model, optimizer)\n",
    "    \n",
    "    for ep in range(epoch):   \n",
    "\n",
    "        correct = 0\n",
    "\n",
    "        for batch_idx, (data, target) in enumerate(trainset_loader):\n",
    "            data, target = data.to(device), target.to(device)\n",
    "            optimizer.zero_grad()\n",
    "            output = model(data)\n",
    "            loss = F.nll_loss(output, target)\n",
    "            loss.backward()\n",
    "            optimizer.step()\n",
    "\n",
    "            pred = output.max(1, keepdim=True)[1] # get the index of the max log-probability\n",
    "            correct += pred.eq(target.view_as(pred)).sum().item()           \n",
    "            \n",
    "            if iteration % log_interval == 0:\n",
    "                print('Train Epoch: {} [{}/{} ({:.0f}%)]\\tLoss: {:.6f} \\tAccuracy: {}/{} ({:.0f}%)'.format(\n",
    "                    ep, batch_idx * len(data), len(trainset_loader.dataset),\n",
    "                    100. * batch_idx / len(trainset_loader), loss.item(),\n",
    "                    correct, len(data),\n",
    "                    100. * correct / len(data)))\n",
    "            if iteration % save_interval == 0 and iteration > 0:\n",
    "                save_checkpoint('pdbss-SURFACE-%i.pth' % iteration, model, optimizer)\n",
    "            iteration += 1\n",
    "            correct = 0\n",
    "        test()\n",
    "    \n",
    "    # save the final model\n",
    "    save_checkpoint('pdbss-SURFACE-%i.pth' % iteration, model, optimizer)\n",
    "    \n",
    "    "
   ]
  },
  {
   "cell_type": "code",
   "execution_count": 18,
   "metadata": {},
   "outputs": [
    {
     "name": "stdout",
     "output_type": "stream",
     "text": [
      "model saved to pdbss-SURFACE-0.pth\n",
      "Train Epoch: 0 [0/305600 (0%)]\tLoss: 6.613822 \tAccuracy: 0/256 (0%)\n",
      "Train Epoch: 0 [25600/305600 (8%)]\tLoss: 4.691539 \tAccuracy: 26/256 (10%)\n",
      "Train Epoch: 0 [51200/305600 (17%)]\tLoss: 4.625884 \tAccuracy: 30/256 (12%)\n",
      "Train Epoch: 0 [76800/305600 (25%)]\tLoss: 4.305901 \tAccuracy: 32/256 (12%)\n",
      "Train Epoch: 0 [102400/305600 (34%)]\tLoss: 4.503367 \tAccuracy: 34/256 (13%)\n",
      "Train Epoch: 0 [128000/305600 (42%)]\tLoss: 4.309661 \tAccuracy: 36/256 (14%)\n",
      "Train Epoch: 0 [153600/305600 (50%)]\tLoss: 4.187340 \tAccuracy: 42/256 (16%)\n",
      "Train Epoch: 0 [179200/305600 (59%)]\tLoss: 4.059433 \tAccuracy: 39/256 (15%)\n",
      "Train Epoch: 0 [204800/305600 (67%)]\tLoss: 4.222292 \tAccuracy: 36/256 (14%)\n",
      "Train Epoch: 0 [230400/305600 (75%)]\tLoss: 4.081500 \tAccuracy: 40/256 (16%)\n",
      "Train Epoch: 0 [256000/305600 (84%)]\tLoss: 3.654788 \tAccuracy: 57/256 (22%)\n",
      "Train Epoch: 0 [281600/305600 (92%)]\tLoss: 4.066331 \tAccuracy: 42/256 (16%)\n",
      "\n",
      "Test set: Average loss: 6.3225, Accuracy: 732/20736 (4%)\n",
      "\n",
      "Train Epoch: 1 [1536/305600 (1%)]\tLoss: 3.203923 \tAccuracy: 78/256 (30%)\n",
      "Train Epoch: 1 [27136/305600 (9%)]\tLoss: 3.059963 \tAccuracy: 82/256 (32%)\n",
      "Train Epoch: 1 [52736/305600 (17%)]\tLoss: 2.614388 \tAccuracy: 97/256 (38%)\n",
      "Train Epoch: 1 [78336/305600 (26%)]\tLoss: 2.520343 \tAccuracy: 107/256 (42%)\n",
      "Train Epoch: 1 [103936/305600 (34%)]\tLoss: 2.283023 \tAccuracy: 116/256 (45%)\n",
      "Train Epoch: 1 [129536/305600 (42%)]\tLoss: 2.081486 \tAccuracy: 123/256 (48%)\n",
      "Train Epoch: 1 [155136/305600 (51%)]\tLoss: 2.169296 \tAccuracy: 128/256 (50%)\n",
      "Train Epoch: 1 [180736/305600 (59%)]\tLoss: 1.880006 \tAccuracy: 131/256 (51%)\n",
      "Train Epoch: 1 [206336/305600 (68%)]\tLoss: 1.868788 \tAccuracy: 137/256 (54%)\n",
      "Train Epoch: 1 [231936/305600 (76%)]\tLoss: 1.601580 \tAccuracy: 152/256 (59%)\n",
      "Train Epoch: 1 [257536/305600 (84%)]\tLoss: 1.613078 \tAccuracy: 152/256 (59%)\n",
      "Train Epoch: 1 [283136/305600 (93%)]\tLoss: 1.338295 \tAccuracy: 161/256 (63%)\n",
      "\n",
      "Test set: Average loss: 12.8372, Accuracy: 2914/20736 (14%)\n",
      "\n",
      "Train Epoch: 2 [3072/305600 (1%)]\tLoss: 0.598220 \tAccuracy: 218/256 (85%)\n",
      "Train Epoch: 2 [28672/305600 (9%)]\tLoss: 0.576092 \tAccuracy: 219/256 (86%)\n",
      "Train Epoch: 2 [54272/305600 (18%)]\tLoss: 0.419126 \tAccuracy: 225/256 (88%)\n",
      "Train Epoch: 2 [79872/305600 (26%)]\tLoss: 0.466412 \tAccuracy: 222/256 (87%)\n",
      "Train Epoch: 2 [105472/305600 (35%)]\tLoss: 0.454429 \tAccuracy: 221/256 (86%)\n",
      "Train Epoch: 2 [131072/305600 (43%)]\tLoss: 0.357688 \tAccuracy: 228/256 (89%)\n",
      "Train Epoch: 2 [156672/305600 (51%)]\tLoss: 0.371366 \tAccuracy: 224/256 (88%)\n",
      "model saved to pdbss-SURFACE-3000.pth\n",
      "Train Epoch: 2 [182272/305600 (60%)]\tLoss: 0.394013 \tAccuracy: 227/256 (89%)\n",
      "Train Epoch: 2 [207872/305600 (68%)]\tLoss: 0.279729 \tAccuracy: 236/256 (92%)\n",
      "Train Epoch: 2 [233472/305600 (76%)]\tLoss: 0.412898 \tAccuracy: 222/256 (87%)\n",
      "Train Epoch: 2 [259072/305600 (85%)]\tLoss: 0.430749 \tAccuracy: 226/256 (88%)\n",
      "Train Epoch: 2 [284672/305600 (93%)]\tLoss: 0.478935 \tAccuracy: 221/256 (86%)\n",
      "\n",
      "Test set: Average loss: 17.1315, Accuracy: 2692/20736 (13%)\n",
      "\n",
      "Train Epoch: 3 [4608/305600 (2%)]\tLoss: 0.109537 \tAccuracy: 248/256 (97%)\n",
      "Train Epoch: 3 [30208/305600 (10%)]\tLoss: 0.048379 \tAccuracy: 254/256 (99%)\n",
      "Train Epoch: 3 [55808/305600 (18%)]\tLoss: 0.077856 \tAccuracy: 250/256 (98%)\n",
      "Train Epoch: 3 [81408/305600 (27%)]\tLoss: 0.095368 \tAccuracy: 251/256 (98%)\n",
      "Train Epoch: 3 [107008/305600 (35%)]\tLoss: 0.037670 \tAccuracy: 254/256 (99%)\n",
      "Train Epoch: 3 [132608/305600 (43%)]\tLoss: 0.036524 \tAccuracy: 255/256 (100%)\n",
      "Train Epoch: 3 [158208/305600 (52%)]\tLoss: 0.051141 \tAccuracy: 253/256 (99%)\n",
      "Train Epoch: 3 [183808/305600 (60%)]\tLoss: 0.064131 \tAccuracy: 251/256 (98%)\n",
      "Train Epoch: 3 [209408/305600 (69%)]\tLoss: 0.096377 \tAccuracy: 250/256 (98%)\n",
      "Train Epoch: 3 [235008/305600 (77%)]\tLoss: 0.069225 \tAccuracy: 251/256 (98%)\n",
      "Train Epoch: 3 [260608/305600 (85%)]\tLoss: 0.075458 \tAccuracy: 252/256 (98%)\n",
      "Train Epoch: 3 [286208/305600 (94%)]\tLoss: 0.097372 \tAccuracy: 250/256 (98%)\n",
      "\n",
      "Test set: Average loss: 19.4181, Accuracy: 2793/20736 (13%)\n",
      "\n",
      "Train Epoch: 4 [6144/305600 (2%)]\tLoss: 0.087632 \tAccuracy: 253/256 (99%)\n",
      "Train Epoch: 4 [31744/305600 (10%)]\tLoss: 0.029272 \tAccuracy: 254/256 (99%)\n",
      "Train Epoch: 4 [57344/305600 (19%)]\tLoss: 0.063591 \tAccuracy: 251/256 (98%)\n",
      "Train Epoch: 4 [82944/305600 (27%)]\tLoss: 0.016252 \tAccuracy: 255/256 (100%)\n",
      "Train Epoch: 4 [108544/305600 (36%)]\tLoss: 0.034736 \tAccuracy: 254/256 (99%)\n",
      "Train Epoch: 4 [134144/305600 (44%)]\tLoss: 0.056826 \tAccuracy: 252/256 (98%)\n",
      "Train Epoch: 4 [159744/305600 (52%)]\tLoss: 0.045001 \tAccuracy: 251/256 (98%)\n",
      "Train Epoch: 4 [185344/305600 (61%)]\tLoss: 0.020454 \tAccuracy: 255/256 (100%)\n",
      "Train Epoch: 4 [210944/305600 (69%)]\tLoss: 0.076598 \tAccuracy: 251/256 (98%)\n",
      "Train Epoch: 4 [236544/305600 (77%)]\tLoss: 0.059099 \tAccuracy: 253/256 (99%)\n",
      "Train Epoch: 4 [262144/305600 (86%)]\tLoss: 0.033501 \tAccuracy: 254/256 (99%)\n",
      "Train Epoch: 4 [287744/305600 (94%)]\tLoss: 0.025866 \tAccuracy: 255/256 (100%)\n",
      "\n",
      "Test set: Average loss: 20.3147, Accuracy: 2837/20736 (14%)\n",
      "\n",
      "Train Epoch: 5 [7680/305600 (3%)]\tLoss: 0.032145 \tAccuracy: 254/256 (99%)\n",
      "model saved to pdbss-SURFACE-6000.pth\n",
      "Train Epoch: 5 [33280/305600 (11%)]\tLoss: 0.006849 \tAccuracy: 256/256 (100%)\n",
      "Train Epoch: 5 [58880/305600 (19%)]\tLoss: 0.074335 \tAccuracy: 252/256 (98%)\n",
      "Train Epoch: 5 [84480/305600 (28%)]\tLoss: 0.047963 \tAccuracy: 250/256 (98%)\n",
      "Train Epoch: 5 [110080/305600 (36%)]\tLoss: 0.035413 \tAccuracy: 255/256 (100%)\n",
      "Train Epoch: 5 [135680/305600 (44%)]\tLoss: 0.013402 \tAccuracy: 256/256 (100%)\n",
      "Train Epoch: 5 [161280/305600 (53%)]\tLoss: 0.043831 \tAccuracy: 253/256 (99%)\n",
      "Train Epoch: 5 [186880/305600 (61%)]\tLoss: 0.087728 \tAccuracy: 250/256 (98%)\n",
      "Train Epoch: 5 [212480/305600 (70%)]\tLoss: 0.093095 \tAccuracy: 250/256 (98%)\n",
      "Train Epoch: 5 [238080/305600 (78%)]\tLoss: 0.194054 \tAccuracy: 242/256 (95%)\n",
      "Train Epoch: 5 [263680/305600 (86%)]\tLoss: 0.034919 \tAccuracy: 254/256 (99%)\n",
      "Train Epoch: 5 [289280/305600 (95%)]\tLoss: 0.087714 \tAccuracy: 250/256 (98%)\n",
      "\n",
      "Test set: Average loss: 20.7363, Accuracy: 2952/20736 (14%)\n",
      "\n",
      "Train Epoch: 6 [9216/305600 (3%)]\tLoss: 0.029519 \tAccuracy: 253/256 (99%)\n",
      "Train Epoch: 6 [34816/305600 (11%)]\tLoss: 0.017380 \tAccuracy: 255/256 (100%)\n",
      "Train Epoch: 6 [60416/305600 (20%)]\tLoss: 0.018073 \tAccuracy: 255/256 (100%)\n",
      "Train Epoch: 6 [86016/305600 (28%)]\tLoss: 0.045216 \tAccuracy: 251/256 (98%)\n",
      "Train Epoch: 6 [111616/305600 (37%)]\tLoss: 0.106065 \tAccuracy: 249/256 (97%)\n",
      "Train Epoch: 6 [137216/305600 (45%)]\tLoss: 0.088794 \tAccuracy: 253/256 (99%)\n"
     ]
    },
    {
     "name": "stderr",
     "output_type": "stream",
     "text": [
      "Process Process-27:\n",
      "Process Process-28:\n",
      "Traceback (most recent call last):\n",
      "Traceback (most recent call last):\n",
      "  File \"/Users/user/anaconda3/envs/cs231n/lib/python3.6/multiprocessing/process.py\", line 258, in _bootstrap\n",
      "    self.run()\n",
      "  File \"/Users/user/anaconda3/envs/cs231n/lib/python3.6/multiprocessing/process.py\", line 258, in _bootstrap\n",
      "    self.run()\n",
      "  File \"/Users/user/anaconda3/envs/cs231n/lib/python3.6/multiprocessing/process.py\", line 93, in run\n",
      "    self._target(*self._args, **self._kwargs)\n",
      "  File \"/Users/user/anaconda3/envs/cs231n/lib/python3.6/multiprocessing/process.py\", line 93, in run\n",
      "    self._target(*self._args, **self._kwargs)\n",
      "  File \"/Users/user/anaconda3/envs/cs231n/lib/python3.6/site-packages/torch/utils/data/dataloader.py\", line 52, in _worker_loop\n",
      "    r = index_queue.get()\n",
      "  File \"/Users/user/anaconda3/envs/cs231n/lib/python3.6/site-packages/torch/utils/data/dataloader.py\", line 52, in _worker_loop\n",
      "    r = index_queue.get()\n",
      "  File \"/Users/user/anaconda3/envs/cs231n/lib/python3.6/multiprocessing/queues.py\", line 335, in get\n",
      "    res = self._reader.recv_bytes()\n",
      "  File \"/Users/user/anaconda3/envs/cs231n/lib/python3.6/multiprocessing/queues.py\", line 335, in get\n",
      "    res = self._reader.recv_bytes()\n",
      "  File \"/Users/user/anaconda3/envs/cs231n/lib/python3.6/multiprocessing/connection.py\", line 216, in recv_bytes\n",
      "    buf = self._recv_bytes(maxlength)\n",
      "  File \"/Users/user/anaconda3/envs/cs231n/lib/python3.6/multiprocessing/connection.py\", line 216, in recv_bytes\n",
      "    buf = self._recv_bytes(maxlength)\n",
      "  File \"/Users/user/anaconda3/envs/cs231n/lib/python3.6/multiprocessing/connection.py\", line 407, in _recv_bytes\n",
      "    buf = self._recv(4)\n",
      "  File \"/Users/user/anaconda3/envs/cs231n/lib/python3.6/multiprocessing/connection.py\", line 407, in _recv_bytes\n",
      "    buf = self._recv(4)\n",
      "  File \"/Users/user/anaconda3/envs/cs231n/lib/python3.6/multiprocessing/connection.py\", line 379, in _recv\n",
      "    chunk = read(handle, remaining)\n",
      "  File \"/Users/user/anaconda3/envs/cs231n/lib/python3.6/multiprocessing/connection.py\", line 379, in _recv\n",
      "    chunk = read(handle, remaining)\n",
      "KeyboardInterrupt\n",
      "KeyboardInterrupt\n",
      "Exception ignored in: <bound method _DataLoaderIter.__del__ of <torch.utils.data.dataloader._DataLoaderIter object at 0x11ec301d0>>\n",
      "Traceback (most recent call last):\n",
      "  File \"/Users/user/anaconda3/envs/cs231n/lib/python3.6/site-packages/torch/utils/data/dataloader.py\", line 347, in __del__\n",
      "    def __del__(self):\n",
      "  File \"/Users/user/anaconda3/envs/cs231n/lib/python3.6/site-packages/torch/utils/data/dataloader.py\", line 178, in handler\n",
      "    _error_if_any_worker_fails()\n",
      "RuntimeError: DataLoader worker (pid 24306) exited unexpectedly with exit code 1.\n"
     ]
    },
    {
     "ename": "KeyboardInterrupt",
     "evalue": "",
     "output_type": "error",
     "traceback": [
      "\u001b[0;31m---------------------------------------------------------------------------\u001b[0m",
      "\u001b[0;31mKeyboardInterrupt\u001b[0m                         Traceback (most recent call last)",
      "\u001b[0;32m<ipython-input-18-591343bd92b2>\u001b[0m in \u001b[0;36m<module>\u001b[0;34m()\u001b[0m\n\u001b[0;32m----> 1\u001b[0;31m \u001b[0mtrain_save\u001b[0m\u001b[0;34m(\u001b[0m\u001b[0;36m10\u001b[0m\u001b[0;34m,\u001b[0m \u001b[0;36m3000\u001b[0m\u001b[0;34m,\u001b[0m \u001b[0;36m100\u001b[0m\u001b[0;34m)\u001b[0m \u001b[0;31m#each epoch has 4700 iterations. original train_save(5,500,100)\u001b[0m\u001b[0;34m\u001b[0m\u001b[0m\n\u001b[0m",
      "\u001b[0;32m<ipython-input-17-f990e9ae0f08>\u001b[0m in \u001b[0;36mtrain_save\u001b[0;34m(epoch, save_interval, log_interval)\u001b[0m\n\u001b[1;32m     42\u001b[0m             \u001b[0moutput\u001b[0m \u001b[0;34m=\u001b[0m \u001b[0mmodel\u001b[0m\u001b[0;34m(\u001b[0m\u001b[0mdata\u001b[0m\u001b[0;34m)\u001b[0m\u001b[0;34m\u001b[0m\u001b[0m\n\u001b[1;32m     43\u001b[0m             \u001b[0mloss\u001b[0m \u001b[0;34m=\u001b[0m \u001b[0mF\u001b[0m\u001b[0;34m.\u001b[0m\u001b[0mnll_loss\u001b[0m\u001b[0;34m(\u001b[0m\u001b[0moutput\u001b[0m\u001b[0;34m,\u001b[0m \u001b[0mtarget\u001b[0m\u001b[0;34m)\u001b[0m\u001b[0;34m\u001b[0m\u001b[0m\n\u001b[0;32m---> 44\u001b[0;31m             \u001b[0mloss\u001b[0m\u001b[0;34m.\u001b[0m\u001b[0mbackward\u001b[0m\u001b[0;34m(\u001b[0m\u001b[0;34m)\u001b[0m\u001b[0;34m\u001b[0m\u001b[0m\n\u001b[0m\u001b[1;32m     45\u001b[0m             \u001b[0moptimizer\u001b[0m\u001b[0;34m.\u001b[0m\u001b[0mstep\u001b[0m\u001b[0;34m(\u001b[0m\u001b[0;34m)\u001b[0m\u001b[0;34m\u001b[0m\u001b[0m\n\u001b[1;32m     46\u001b[0m \u001b[0;34m\u001b[0m\u001b[0m\n",
      "\u001b[0;32m~/anaconda3/envs/cs231n/lib/python3.6/site-packages/torch/tensor.py\u001b[0m in \u001b[0;36mbackward\u001b[0;34m(self, gradient, retain_graph, create_graph)\u001b[0m\n\u001b[1;32m     91\u001b[0m                 \u001b[0mproducts\u001b[0m\u001b[0;34m.\u001b[0m \u001b[0mDefaults\u001b[0m \u001b[0mto\u001b[0m\u001b[0;31m \u001b[0m\u001b[0;31m`\u001b[0m\u001b[0;31m`\u001b[0m\u001b[0;32mFalse\u001b[0m\u001b[0;31m`\u001b[0m\u001b[0;31m`\u001b[0m\u001b[0;34m.\u001b[0m\u001b[0;34m\u001b[0m\u001b[0m\n\u001b[1;32m     92\u001b[0m         \"\"\"\n\u001b[0;32m---> 93\u001b[0;31m         \u001b[0mtorch\u001b[0m\u001b[0;34m.\u001b[0m\u001b[0mautograd\u001b[0m\u001b[0;34m.\u001b[0m\u001b[0mbackward\u001b[0m\u001b[0;34m(\u001b[0m\u001b[0mself\u001b[0m\u001b[0;34m,\u001b[0m \u001b[0mgradient\u001b[0m\u001b[0;34m,\u001b[0m \u001b[0mretain_graph\u001b[0m\u001b[0;34m,\u001b[0m \u001b[0mcreate_graph\u001b[0m\u001b[0;34m)\u001b[0m\u001b[0;34m\u001b[0m\u001b[0m\n\u001b[0m\u001b[1;32m     94\u001b[0m \u001b[0;34m\u001b[0m\u001b[0m\n\u001b[1;32m     95\u001b[0m     \u001b[0;32mdef\u001b[0m \u001b[0mregister_hook\u001b[0m\u001b[0;34m(\u001b[0m\u001b[0mself\u001b[0m\u001b[0;34m,\u001b[0m \u001b[0mhook\u001b[0m\u001b[0;34m)\u001b[0m\u001b[0;34m:\u001b[0m\u001b[0;34m\u001b[0m\u001b[0m\n",
      "\u001b[0;32m~/anaconda3/envs/cs231n/lib/python3.6/site-packages/torch/autograd/__init__.py\u001b[0m in \u001b[0;36mbackward\u001b[0;34m(tensors, grad_tensors, retain_graph, create_graph, grad_variables)\u001b[0m\n\u001b[1;32m     87\u001b[0m     Variable._execution_engine.run_backward(\n\u001b[1;32m     88\u001b[0m         \u001b[0mtensors\u001b[0m\u001b[0;34m,\u001b[0m \u001b[0mgrad_tensors\u001b[0m\u001b[0;34m,\u001b[0m \u001b[0mretain_graph\u001b[0m\u001b[0;34m,\u001b[0m \u001b[0mcreate_graph\u001b[0m\u001b[0;34m,\u001b[0m\u001b[0;34m\u001b[0m\u001b[0m\n\u001b[0;32m---> 89\u001b[0;31m         allow_unreachable=True)  # allow_unreachable flag\n\u001b[0m\u001b[1;32m     90\u001b[0m \u001b[0;34m\u001b[0m\u001b[0m\n\u001b[1;32m     91\u001b[0m \u001b[0;34m\u001b[0m\u001b[0m\n",
      "\u001b[0;31mKeyboardInterrupt\u001b[0m: "
     ]
    }
   ],
   "source": [
    "train_save(10, 3000, 100) #each epoch has 4700 iterations. original train_save(5,500,100)\n"
   ]
  },
  {
   "cell_type": "code",
   "execution_count": 19,
   "metadata": {},
   "outputs": [
    {
     "name": "stdout",
     "output_type": "stream",
     "text": [
      "model saved to /Users/user/Documents/stanford_courses/cs231n/project/pytorch_cs231n/pdbss-SURFACE-100000.pth\n"
     ]
    }
   ],
   "source": [
    "save_checkpoint('/Users/user/Documents/stanford_courses/cs231n/project/pytorch_cs231n/pdbss-SURFACE-%i.pth' % 100000, model, optimizer)"
   ]
  },
  {
   "cell_type": "code",
   "execution_count": 21,
   "metadata": {},
   "outputs": [
    {
     "name": "stdout",
     "output_type": "stream",
     "text": [
      "model loaded from model_bkup/pdbss-SURFACE-100000.pth\n",
      "\n",
      "Test set: Average loss: 22.3764, Accuracy: 2892/20736 (14%)\n",
      "\n"
     ]
    }
   ],
   "source": [
    "# create a new model\n",
    "model = Net().to(device)\n",
    "optimizer = optim.SGD(model.parameters(), lr=0.001, momentum=0.9)\n",
    "# load from the final checkpoint\n",
    "load_checkpoint('model_bkup/pdbss-SURFACE-100000.pth', model, optimizer)\n",
    "# should give you the final model accuracy\n",
    "test()\n"
   ]
  },
  {
   "cell_type": "markdown",
   "metadata": {},
   "source": [
    "## 3. Fine-tune a model\n",
    "\n",
    "Sometimes you want to fine-tune a pretrained model instead of training a model from scratch. For example, if you want to train a model on a new dataset that contains natural images. To achieve the best performance, you can start with a model that's fully trained on ImageNet and fine-tune the model.\n",
    "\n",
    "Finetuning a model in PyTorch is super easy! First, let's find out what we saved in a checkpoint"
   ]
  },
  {
   "cell_type": "code",
   "execution_count": null,
   "metadata": {},
   "outputs": [],
   "source": [
    "# What's in a state dict?\n",
    "print(model.state_dict().keys())\n"
   ]
  },
  {
   "cell_type": "markdown",
   "metadata": {},
   "source": [
    "### Finetune the fc layers\n",
    "\n",
    "Now say we want to load the conv layers from the checkpoint and train the fc layers. We can simply load a subset of the state dict with the selected names"
   ]
  },
  {
   "cell_type": "code",
   "execution_count": null,
   "metadata": {},
   "outputs": [],
   "source": [
    "checkpoint = torch.load('pdbss-4690.pth')\n",
    "states_to_load = {}\n",
    "for name, param in checkpoint['state_dict'].items():\n",
    "    if name.startswith('conv'):\n",
    "        states_to_load[name] = param\n",
    "\n",
    "# Construct a new state dict in which the layers we want\n",
    "# to import from the checkpoint is update with the parameters\n",
    "# from the checkpoint\n",
    "model_state = model.state_dict()\n",
    "model_state.update(states_to_load)\n",
    "        \n",
    "model = Net().to(device)\n",
    "model.load_state_dict(model_state)\n",
    "optimizer = optim.SGD(model.parameters(), lr=0.001, momentum=0.9)\n"
   ]
  },
  {
   "cell_type": "code",
   "execution_count": null,
   "metadata": {},
   "outputs": [],
   "source": [
    "train(1)  # training 1 epoch will get you to 93%!\n"
   ]
  },
  {
   "cell_type": "markdown",
   "metadata": {},
   "source": [
    "### Import pretrained weights in a different model\n",
    "\n",
    "We can even use the pretrained conv layers in a different model."
   ]
  },
  {
   "cell_type": "code",
   "execution_count": null,
   "metadata": {},
   "outputs": [],
   "source": [
    "class SmallNet(nn.Module):\n",
    "    def __init__(self):\n",
    "        super(SmallNet, self).__init__()\n",
    "        self.conv1 = nn.Conv2d(3, 10, kernel_size=3, stride=1,padding=1) #(300+1x2-3)/1+1=300  300x300x10 pool 150x150x10\n",
    "        self.conv2 = nn.Conv2d(10, 20, kernel_size=3, stride=1,padding=1) #(150+1x2-3)/1+1=150  150x150x10 pool 75x75x20\n",
    "        self.conv2_drop = nn.Dropout2d()\n",
    "        self.fc1 = nn.Linear(75*75*20, 740)\n",
    "\n",
    "    def forward(self, x):\n",
    "        x = F.relu(F.max_pool2d(self.conv1(x), 2))\n",
    "        x = F.relu(F.max_pool2d(self.conv2_drop(self.conv2(x)), 2))\n",
    "        x = x.view(-1, 75*75*20)\n",
    "        x = self.fc1(x)\n",
    "        return F.log_softmax(x, dim=1)\n",
    "\n",
    "model = SmallNet().to(device)\n",
    "optimizer = optim.SGD(model.parameters(), lr=0.001, momentum=0.9)\n"
   ]
  },
  {
   "cell_type": "code",
   "execution_count": null,
   "metadata": {},
   "outputs": [],
   "source": [
    "checkpoint = torch.load('pdbss-4690.pth')\n",
    "states_to_load = {}\n",
    "for name, param in checkpoint['state_dict'].items():\n",
    "    if name.startswith('conv'):\n",
    "        states_to_load[name] = param\n",
    "\n",
    "# Construct a new state dict in which the layers we want\n",
    "# to import from the checkpoint is update with the parameters\n",
    "# from the checkpoint\n",
    "model_state = model.state_dict()\n",
    "model_state.update(states_to_load)\n",
    "        \n",
    "model.load_state_dict(model_state)\n"
   ]
  },
  {
   "cell_type": "code",
   "execution_count": null,
   "metadata": {},
   "outputs": [],
   "source": [
    "train(1)  # training 1 epoch will get you to 93%!\n"
   ]
  },
  {
   "cell_type": "code",
   "execution_count": null,
   "metadata": {},
   "outputs": [],
   "source": []
  }
 ],
 "metadata": {
  "kernelspec": {
   "display_name": "Python 3",
   "language": "python",
   "name": "python3"
  },
  "language_info": {
   "codemirror_mode": {
    "name": "ipython",
    "version": 3
   },
   "file_extension": ".py",
   "mimetype": "text/x-python",
   "name": "python",
   "nbconvert_exporter": "python",
   "pygments_lexer": "ipython3",
   "version": "3.6.4"
  }
 },
 "nbformat": 4,
 "nbformat_minor": 1
}
